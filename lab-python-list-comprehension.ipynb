{
 "cells": [
  {
   "cell_type": "markdown",
   "metadata": {},
   "source": [
    "# Lab | List, Dict and Set Comprehension"
   ]
  },
  {
   "cell_type": "markdown",
   "metadata": {},
   "source": [
    "## Exercise: Managing Customer Orders Optimized with Comprehension"
   ]
  },
  {
   "cell_type": "markdown",
   "metadata": {},
   "source": [
    "In the previous exercise, you developed a program to manage customer orders and inventory. Now, let's take it a step further and incorporate comprehension into your code.\n",
    "\n",
    "Follow the steps below to complete the exercise:\n",
    "\n",
    "1. Review your code from the previous exercise and identify areas where you can apply comprehension to simplify and streamline your code. \n",
    "\n",
    "    - *Hint: Apply it to initialize inventory, updating the inventory and printing the updated inventory.*\n",
    "    \n",
    "    - For example, in initializing the inventory, we could have:\n",
    "    \n",
    "        ```python\n",
    "        def initialize_inventory(products):\n",
    "            inventory = {product: int(input(f\"Enter the quantity of {product}s available: \")) for product in products}\n",
    "            return inventory\n",
    "\n",
    "        ```\n",
    "<br>\n",
    "    \n",
    "    \n",
    "2. Modify the function get_customer_orders so it prompts the user to enter the number of customer orders and gathers the product names using a loop and user input. Use comprehension.\n",
    "\n",
    "3. Add a new function to calculate the total price of the customer order. For each product in customer_orders, prompt the user to enter the price of that product. Use comprehension to calculate the total price. Note: assume that the user can only have 1 unit of each product.\n",
    "\n",
    "4. Modify the update_inventory function to remove the product from the inventory if its quantity becomes zero after fulfilling the customer orders. Use comprehension to filter out the products with a quantity of zero from the inventory.\n",
    "\n",
    "5. Print the total price of the customer order.\n",
    "\n",
    "Your code should produce output similar to the following:\n",
    "\n",
    "```python\n",
    "Enter the quantity of t-shirts available:  5\n",
    "Enter the quantity of mugs available:  4\n",
    "Enter the quantity of hats available:  3\n",
    "Enter the quantity of books available:  2\n",
    "Enter the quantity of keychains available:  1\n",
    "Enter the number of customer orders:  2\n",
    "Enter the name of a product that a customer wants to order:  hat\n",
    "Enter the name of a product that a customer wants to order:  keychain\n",
    "\n",
    "Order Statistics:\n",
    "Total Products Ordered: 2\n",
    "Percentage of Unique Products Ordered: 40.0\n",
    "\n",
    "Updated Inventory:\n",
    "t-shirt: 5\n",
    "mug: 4\n",
    "hat: 2\n",
    "book: 2\n",
    "Enter the price of keychain:  5\n",
    "Enter the price of hat:  10\n",
    "Total Price: 15.0\n",
    "\n",
    "```\n"
   ]
  },
  {
   "cell_type": "code",
   "execution_count": 1,
   "metadata": {},
   "outputs": [],
   "source": [
    "def initialize_inventory(products):\n",
    "    \"\"\"Creates a dictionary to store the inventory\"\"\"\n",
    "    inventory = {product:int(input(f\"Enter the quantity of {product}s available: \")) for product in products}\n",
    "    return inventory\n",
    "\n",
    "\n",
    "#2. Modify the function get_customer_orders so it prompts the user to enter the number of customer orders and \n",
    "#gathers the product names using a loop and user input. Use comprehension.\n",
    "\n",
    "\n",
    "def get_customer_orders():\n",
    "    \"\"\"Groups the items ordered by the costumer\"\"\"\n",
    "    number_orders = int(input(\"Enter the number of customer orders: \"))\n",
    "#    print(f\"The costumer ordered {number_orders} product(s).\")\n",
    "    return {input(\"Enter a product that a customer wants to order: \") for product in range(1,number_orders+1)}\n",
    "    \n",
    "#3. Add a new function to calculate the total price of the customer order. For each product in customer_orders, \n",
    "#prompt the user to enter the price of that product. Use comprehension to calculate the total price. \n",
    "#Note: assume that the user can only have 1 unit of each product.\n",
    "\n",
    "\n",
    "def calculate_total_price(customer_orders):\n",
    "    \"\"\"Calculates the total price of the customer's order.\n",
    "    Assumes only a maximum of 1 unit can be ordered.\"\"\"\n",
    "    total_price = 0\n",
    "    unit_price = {int(input(f\"Enter the unitary price of the {product}: \")) for product in customer_orders}\n",
    "    total_price = sum(unit_price)\n",
    "    return total_price\n",
    "\n",
    "#4. Modify the update_inventory function to remove the product from the inventory if its quantity becomes \n",
    "#zero after fulfilling the customer orders. Use comprehension to filter out the products with a quantity of zero from the inventory.\n",
    "#\n",
    "    \n",
    "def update_inventory(customer_orders, inventory):\n",
    "    \"\"\"Modifies the inventory according to the customer's orders\"\"\"\n",
    "    inventory = {product: inventory[product] - 1 if product in customer_orders else inventory[product] for product in inventory}\n",
    "    inventory = {product: amount for product, amount in inventory.items() if amount > 0}\n",
    "    return inventory       \n",
    "                                 \n",
    "def calculate_order_statistics(customer_orders, products):\n",
    "    \"\"\"Calculates the total amount and percentage of unique products ordered.\"\"\" \n",
    "    TOP = len(customer_orders) #calculates the total amount of ordered products\n",
    "    POP = len(customer_orders)*100/len(products) #calculates the percetage of unique products ordered\n",
    "    return TOP,POP\n",
    "#\n",
    "def print_order_statistics(order_statistics):\n",
    "    \"\"\"Displays the order statistics\"\"\"\n",
    "    print(\"Order Statistics: \")\n",
    "    print(f\"Unique products ordered: {order_statistics[0]}\")\n",
    "    print(f\"Percentage of unique products ordered: {order_statistics[1]}\")\n",
    "#    \n",
    "def print_updated_inventory(inventory):\n",
    "    \"\"\"Displays the updated inventory\"\"\" \n",
    "    print(\"Updated inventory:\")\n",
    "    {print(f\"{product}: {amount}\") for product, amount in inventory.items()}\n",
    "                                 \n",
    "#5. Print the total price of the customer order.\n",
    "                                 "
   ]
  },
  {
   "cell_type": "code",
   "execution_count": 2,
   "metadata": {
    "scrolled": true
   },
   "outputs": [
    {
     "name": "stdout",
     "output_type": "stream",
     "text": [
      "Enter the quantity of t-shirts available: 11\n",
      "Enter the quantity of mugs available: 11\n",
      "Enter the quantity of books available: 1\n",
      "Enter the quantity of hats available: 11\n",
      "Enter the quantity of keychains available: 11\n",
      "Enter the number of customer orders: 3\n",
      "Enter a product that a customer wants to order: t-shirt\n",
      "Enter a product that a customer wants to order: mug\n",
      "Enter a product that a customer wants to order: book\n",
      "Order Statistics: \n",
      "Unique products ordered: 3\n",
      "Percentage of unique products ordered: 60.0\n",
      "Updated inventory:\n",
      "t-shirt: 10\n",
      "mug: 10\n",
      "hat: 11\n",
      "keychain: 11\n",
      "Enter the unitary price of the mug: 2\n",
      "Enter the unitary price of the t-shirt: 3\n",
      "Enter the unitary price of the book: 4\n",
      "The total price of the customer order is : 9\n"
     ]
    }
   ],
   "source": [
    "products = [\"t-shirt\", \"mug\", \"book\", \"hat\", \"keychain\"]\n",
    "inventory = initialize_inventory(products)\n",
    "customer_orders = get_customer_orders()\n",
    "order_statistics = calculate_order_statistics(customer_orders, products)\n",
    "print_order_statistics(order_statistics)\n",
    "inventory = update_inventory(customer_orders, inventory)\n",
    "print_updated_inventory(inventory)\n",
    "total_price = calculate_total_price(customer_orders)\n",
    "print(f\"The total price of the customer order is : {total_price}\")"
   ]
  },
  {
   "cell_type": "code",
   "execution_count": null,
   "metadata": {},
   "outputs": [],
   "source": []
  }
 ],
 "metadata": {
  "kernelspec": {
   "display_name": "Python 3",
   "language": "python",
   "name": "python3"
  },
  "language_info": {
   "codemirror_mode": {
    "name": "ipython",
    "version": 3
   },
   "file_extension": ".py",
   "mimetype": "text/x-python",
   "name": "python",
   "nbconvert_exporter": "python",
   "pygments_lexer": "ipython3",
   "version": "3.7.6"
  }
 },
 "nbformat": 4,
 "nbformat_minor": 5
}
