{
 "cells": [
  {
   "cell_type": "markdown",
   "metadata": {},
   "source": [
    "# Lab | List, Dict and Set Comprehension"
   ]
  },
  {
   "cell_type": "markdown",
   "metadata": {},
   "source": [
    "## Exercise: Managing Customer Orders Optimized with Comprehension"
   ]
  },
  {
   "cell_type": "markdown",
   "metadata": {},
   "source": [
    "In the previous exercise, you developed a program to manage customer orders and inventory. Now, let's take it a step further and incorporate comprehension into your code.\n",
    "\n",
    "Follow the steps below to complete the exercise:\n",
    "\n",
    "1. Review your code from the previous exercise and identify areas where you can apply comprehension to simplify and streamline your code. \n",
    "\n",
    "    - *Hint: Apply it to initialize inventory, updating the inventory and printing the updated inventory.*\n",
    "    \n",
    "    - For example, in initializing the inventory, we could have:\n",
    "    \n",
    "        ```python\n",
    "        def initialize_inventory(products):\n",
    "            inventory = {product: int(input(f\"Enter the quantity of {product}s available: \")) for product in products}\n",
    "            return inventory\n",
    "\n",
    "        ```\n",
    "<br>\n",
    "    \n",
    "    \n",
    "2. Modify the function get_customer_orders so it prompts the user to enter the number of customer orders and gathers the product names using a loop and user input. Use comprehension.\n",
    "\n",
    "3. Add a new function to calculate the total price of the customer order. For each product in customer_orders, prompt the user to enter the price of that product. Use comprehension to calculate the total price. Note: assume that the user can only have 1 unit of each product.\n",
    "\n",
    "4. Modify the update_inventory function to remove the product from the inventory if its quantity becomes zero after fulfilling the customer orders. Use comprehension to filter out the products with a quantity of zero from the inventory.\n",
    "\n",
    "5. Print the total price of the customer order.\n",
    "\n",
    "Your code should produce output similar to the following:\n",
    "\n",
    "```python\n",
    "Enter the quantity of t-shirts available:  5\n",
    "Enter the quantity of mugs available:  4\n",
    "Enter the quantity of hats available:  3\n",
    "Enter the quantity of books available:  2\n",
    "Enter the quantity of keychains available:  1\n",
    "Enter the number of customer orders:  2\n",
    "Enter the name of a product that a customer wants to order:  hat\n",
    "Enter the name of a product that a customer wants to order:  keychain\n",
    "\n",
    "Order Statistics:\n",
    "Total Products Ordered: 2\n",
    "Percentage of Unique Products Ordered: 40.0\n",
    "\n",
    "Updated Inventory:\n",
    "t-shirt: 5\n",
    "mug: 4\n",
    "hat: 2\n",
    "book: 2\n",
    "Enter the price of keychain:  5\n",
    "Enter the price of hat:  10\n",
    "Total Price: 15.0\n",
    "\n",
    "```\n"
   ]
  },
  {
   "cell_type": "code",
   "execution_count": 20,
   "metadata": {},
   "outputs": [
    {
     "ename": "SyntaxError",
     "evalue": "invalid syntax (<ipython-input-20-0cfb2c011d64>, line 15)",
     "output_type": "error",
     "traceback": [
      "\u001b[0;36m  File \u001b[0;32m\"<ipython-input-20-0cfb2c011d64>\"\u001b[0;36m, line \u001b[0;32m15\u001b[0m\n\u001b[0;31m    customer_orders = {set().add(input(\"Enter a product that a customer wants to order: \") for product in range(1,number_orders+1)}\u001b[0m\n\u001b[0m                                                                                                                                  ^\u001b[0m\n\u001b[0;31mSyntaxError\u001b[0m\u001b[0;31m:\u001b[0m invalid syntax\n"
     ]
    }
   ],
   "source": [
    "def initialize_inventory(products):\n",
    "    \"\"\"Creates a dictionary to store the inventory\"\"\"\n",
    "    inventory = {product:int(input(f\"Enter the quantity of {product}s available: \")) for product in products}\n",
    "    return inventory\n",
    "\n",
    "\n",
    "#2. Modify the function get_customer_orders so it prompts the user to enter the number of customer orders and \n",
    "#gathers the product names using a loop and user input. Use comprehension.\n",
    "\n",
    "\n",
    "def get_customer_orders():\n",
    "    \"\"\"Groups the items ordered by the costumer\"\"\"\n",
    "    number_orders = int(input(\"Enter the number of customer orders: \"))\n",
    "#    print(f\"The costumer ordered {number_orders} product(s).\")\n",
    "    customer_orders = {set().add(input(\"Enter a product that a customer wants to order: \") for product in range(1,number_orders+1)}   \n",
    "    return customer_orders\n",
    "\n",
    "\n",
    "#3. Add a new function to calculate the total price of the customer order. For each product in customer_orders, \n",
    "#prompt the user to enter the price of that product. Use comprehension to calculate the total price. \n",
    "#Note: assume that the user can only have 1 unit of each product.\n",
    "\n",
    "def calculate_total_price(customer_orders):\n",
    "    \"\"\"Calculates the total price of the customer's order.\n",
    "    Assumes only a maximum of 1 unit can be ordered.\"\"\"\n",
    "    total_price = 0\n",
    "    for product in customer_orders:\n",
    "        unit_price = int(input(f\"Enter the unitary price of the {product}: \"))\n",
    "        total_price = total_price + unit_price \n",
    "    print(f\"The total price of the order is : {total_price}\")\n",
    "\n",
    "#4. Modify the update_inventory function to remove the product from the inventory if its quantity becomes \n",
    "#zero after fulfilling the customer orders. Use comprehension to filter out the products with a quantity of zero from the inventory.\n",
    "#\n",
    "    \n",
    "def update_inventory(customer_orders, inventory):\n",
    "    \"\"\"Modifies the inventory according to the customer's orders\"\"\"\n",
    "    for key,value in inventory.items():\n",
    "        if value != 0:\n",
    "            print(f\"{key}: {value}\")\n",
    "\n",
    "\n",
    "##5. Print the total price of the customer order.\n",
    "#\n",
    "#\n",
    "#\n",
    "#\n",
    "#def calculate_order_statistics(customer_orders, products):\n",
    "#    \"\"\"Calculates the total amount and percentage of unique products ordered.\"\"\" \n",
    "#    order_statistics = list()\n",
    "#    TOP = len(customer_orders) #calculates the total amount of ordered products\n",
    "#    order_statistics.append(TOP)\n",
    "#    POP = len(customer_orders)*100/len(products) #calculates the percetage of unique products ordered\n",
    "#    order_statistics.append(POP)\n",
    "#    return order_statistics\n",
    "#\n",
    "#def print_order_statistics(order_statistics):\n",
    "#    \"\"\"Displays the order statistics\"\"\"\n",
    "#    print(f\"Unique products ordered: {order_statistics[0]}\")\n",
    "#    print(f\"Percentage of products ordered: {order_statistics[1]}\")\n",
    "#    \n",
    "def print_updated_inventory(inventory):\n",
    "    \"\"\"Displays the updated inventory\"\"\" \n",
    "    print(inventory for product in inventory.values() != 0)\n",
    "#"
   ]
  },
  {
   "cell_type": "code",
   "execution_count": 9,
   "metadata": {},
   "outputs": [
    {
     "name": "stdout",
     "output_type": "stream",
     "text": [
      "Enter the quantity of t-shirts available: 11\n",
      "Enter the quantity of mugs available: 11\n",
      "Enter the quantity of books available: 11\n",
      "Enter the quantity of hats available: 11\n",
      "Enter the quantity of keychains available: 11\n"
     ]
    }
   ],
   "source": [
    "products = [\"t-shirt\", \"mug\", \"book\", \"hat\", \"keychain\"]\n",
    "inventory = initialize_inventory(products)"
   ]
  },
  {
   "cell_type": "code",
   "execution_count": 10,
   "metadata": {},
   "outputs": [
    {
     "name": "stdout",
     "output_type": "stream",
     "text": [
      "Enter the number of customer orders: 2\n"
     ]
    },
    {
     "data": {
      "text/plain": [
       "{<generator object get_customer_orders.<locals>.<genexpr> at 0x7f83e569a250>}"
      ]
     },
     "execution_count": 10,
     "metadata": {},
     "output_type": "execute_result"
    }
   ],
   "source": [
    "# customer_orders = set()\n",
    "get_customer_orders()"
   ]
  },
  {
   "cell_type": "code",
   "execution_count": 22,
   "metadata": {},
   "outputs": [
    {
     "name": "stdout",
     "output_type": "stream",
     "text": [
      "hat\n",
      "book\n",
      "{'hat', 'book'}\n"
     ]
    }
   ],
   "source": [
    "#print(\"Customer orders: \",customer_orders)\n",
    "customer_orders = set()\n",
    "customer_orders.add(\"hat\")\n",
    "customer_orders.add(\"book\")\n",
    "\n",
    "\n",
    "for i in customer_orders:\n",
    "    print(i) \n",
    "    \n",
    "print(customer_orders)\n"
   ]
  },
  {
   "cell_type": "code",
   "execution_count": 26,
   "metadata": {},
   "outputs": [
    {
     "name": "stdout",
     "output_type": "stream",
     "text": [
      "Enter the unitary price of the book: 2\n",
      "Enter the unitary price of the hat: 3\n",
      "The total price of the order is : 5\n"
     ]
    }
   ],
   "source": []
  },
  {
   "cell_type": "code",
   "execution_count": 71,
   "metadata": {},
   "outputs": [],
   "source": [
    "#unitary_price = [int(input(f\"Enter the price of {product}\" for product in customer_orders))]\n",
    "#total_price = sum(unitary_price)\n",
    "#print(f\"The total price of the order is: {total_price}\")"
   ]
  },
  {
   "cell_type": "code",
   "execution_count": 15,
   "metadata": {},
   "outputs": [],
   "source": [
    "inventory = {\"hat\": 1, \"book\": 0}\n",
    "def print_updated_inventory(inventory):\n",
    "    \"\"\"Displays the updated inventory\"\"\"\n",
    "#    print(inventory for product in inventory[customer_orders] != 0)\n",
    "    print(\"Updated inventory: \")\n",
    "    for key,value in inventory.items():\n",
    "        if value != 0:\n",
    "            print(f\"{key}: {value}\")\n",
    "    "
   ]
  },
  {
   "cell_type": "code",
   "execution_count": 16,
   "metadata": {},
   "outputs": [
    {
     "name": "stdout",
     "output_type": "stream",
     "text": [
      "hat: 1\n"
     ]
    }
   ],
   "source": [
    "print_updated_inventory(inventory)"
   ]
  },
  {
   "cell_type": "code",
   "execution_count": null,
   "metadata": {},
   "outputs": [],
   "source": []
  }
 ],
 "metadata": {
  "kernelspec": {
   "display_name": "Python 3",
   "language": "python",
   "name": "python3"
  },
  "language_info": {
   "codemirror_mode": {
    "name": "ipython",
    "version": 3
   },
   "file_extension": ".py",
   "mimetype": "text/x-python",
   "name": "python",
   "nbconvert_exporter": "python",
   "pygments_lexer": "ipython3",
   "version": "3.7.6"
  }
 },
 "nbformat": 4,
 "nbformat_minor": 5
}
